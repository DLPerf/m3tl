{
 "cells": [
  {
   "cell_type": "code",
   "execution_count": null,
   "metadata": {},
   "outputs": [],
   "source": [
    "# default_exp special_tokens\n",
    "%load_ext autoreload\n",
    "%autoreload 2"
   ]
  },
  {
   "cell_type": "markdown",
   "metadata": {},
   "source": [
    "# Special Tokens\n"
   ]
  },
  {
   "cell_type": "code",
   "execution_count": null,
   "metadata": {},
   "outputs": [],
   "source": [
    "# export\n",
    "BOS_TOKEN = '[unused98]'\n",
    "EOS_TOKEN = '[unused99]'\n",
    "CLS_TOKEN = '[CLS]'\n",
    "SPACE_TOKEN = '[unused1]'\n",
    "UNK_TOKEN = '[UNK]'\n",
    "SPECIAL_TOKENS = [BOS_TOKEN, EOS_TOKEN, CLS_TOKEN, SPACE_TOKEN, UNK_TOKEN]\n",
    "TRAIN = 'train'\n",
    "EVAL = 'eval'\n",
    "PREDICT = 'infer'\n",
    "MODAL_LIST = ['image', 'others']"
   ]
  },
  {
   "cell_type": "code",
   "execution_count": null,
   "metadata": {},
   "outputs": [],
   "source": []
  }
 ],
 "metadata": {
  "kernelspec": {
   "display_name": "Python 3",
   "language": "python",
   "name": "python3"
  }
 },
 "nbformat": 4,
 "nbformat_minor": 2
}
